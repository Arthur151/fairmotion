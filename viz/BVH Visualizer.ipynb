{
 "cells": [
  {
   "cell_type": "code",
   "execution_count": 9,
   "metadata": {},
   "outputs": [],
   "source": [
    "bvh_filename = \"/home/dgopinath/code/pfnn/data/animations/LocomotionFlat04_000.bvh\""
   ]
  },
  {
   "cell_type": "code",
   "execution_count": 10,
   "metadata": {},
   "outputs": [],
   "source": [
    "import Animation, BVH\n",
    "from basecode.render import glut_viewer as viewer\n",
    "from basecode.render import gl_render\n",
    "from basecode.utils import basics\n",
    "\n",
    "import numpy as np\n",
    "\n",
    "from OpenGL.GL import *\n",
    "from OpenGL.GLU import *\n",
    "from OpenGL.GLUT import *\n",
    "\n",
    "import time"
   ]
  },
  {
   "cell_type": "code",
   "execution_count": 11,
   "metadata": {},
   "outputs": [],
   "source": [
    "def load_animation(bvh_filename):\n",
    "    animation, joint_names, time_per_frame = BVH.load(bvh_filename)\n",
    "    joint_parents = animation.parents\n",
    "    global_positions = Animation.positions_global(animation)\n",
    "    return global_positions, joint_parents, time_per_frame"
   ]
  },
  {
   "cell_type": "code",
   "execution_count": 4,
   "metadata": {},
   "outputs": [],
   "source": [
    "def render_callback():\n",
    "    global start_time, global_positions, joint_parents, time_per_frame\n",
    "\n",
    "    gl_render.render_ground(size=[100, 100], color=[0.8, 0.8, 0.8], axis='y', origin=True, use_arrow=True)\n",
    "    time_elapsed = time.time() - start_time\n",
    "    frame_num = int(time_elapsed / time_per_frame) % len(global_positions)\n",
    "    \n",
    "    glPushMatrix()\n",
    "    glRotatef(90, -1, 0, 0)\n",
    "    glScalef(0.1, 0.1, 0.1)\n",
    "\n",
    "    glEnable(GL_LIGHTING)\n",
    "    for i in range(len(joint_parents)):\n",
    "        pos = global_positions[frame_num][i]\n",
    "        gl_render.render_point(pos, radius=0.25, color=[0.8, 0.8, 0.0, 1.0])\n",
    "        j = joint_parents[i]\n",
    "        if j!=-1:\n",
    "            pos_parent = global_positions[frame_num][j]\n",
    "            gl_render.render_line(p1=pos_parent, p2=pos, color=[0, 0, 0, 1])            \n",
    "    glPopMatrix()\n",
    "            \n",
    "def keyboard_callback(key):\n",
    "    global filenames, file_num, global_positions, joint_parents, time_per_frame\n",
    "    if key == b'.':\n",
    "        file_num += 1\n",
    "        global_positions, joint_parents, time_per_frame = load_animation(filenames[file_num])\n",
    "        print(filenames[file_num])\n",
    "    if key == b',':\n",
    "        file_num -= 1\n",
    "        global_positions, joint_parents, time_per_frame = load_animation(filenames[file_num])\n",
    "        print(filenames[file_num])\n",
    "    return"
   ]
  },
  {
   "cell_type": "code",
   "execution_count": null,
   "metadata": {},
   "outputs": [],
   "source": [
    "start_time = time.time()\n",
    "\n",
    "cam_origin = 0.01*np.array([0, 50, 0])\n",
    "cam_pos = cam_origin + np.array([0.0, 1.0, 3.5])\n",
    "\n",
    "filenames = []\n",
    "with open(\"/home/dgopinath/code/crawler/bvh_files.txt\") as f:\n",
    "    for line in f:\n",
    "        filenames.append(f\"{line.strip()}.bvh\")\n",
    "\n",
    "file_num = 0\n",
    "global_positions, joint_parents, time_per_frame = load_animation(filenames[file_num])\n",
    "global_positions, joint_parents, time_per_frame = load_animation(\"/media/dgopinath/Seagate Desktop Drive/L/E/Ruta_Bongo_Board/Project 6/Capture day 1/Session 2/take_04.bvh\")\n",
    "viewer.run(\n",
    "    title='BVH viewer',\n",
    "    cam_pos=cam_pos,\n",
    "    cam_origin=cam_origin,\n",
    "    size=(1280, 720),\n",
    "    keyboard_callback=keyboard_callback,\n",
    "    render_callback=render_callback,\n",
    ")\n"
   ]
  },
  {
   "cell_type": "code",
   "execution_count": 6,
   "metadata": {},
   "outputs": [
    {
     "data": {
      "text/plain": [
       "[1, 2, 3, 4, 5]"
      ]
     },
     "execution_count": 6,
     "metadata": {},
     "output_type": "execute_result"
    }
   ],
   "source": [
    "[i for i in range(1, 6)]"
   ]
  },
  {
   "cell_type": "code",
   "execution_count": 18,
   "metadata": {},
   "outputs": [],
   "source": [
    "# BVH segmentation tool\n",
    "\n",
    "def segmentBVH(filename, num_pieces=5):\n",
    "    animation, joint_names, time_per_frame = BVH.load(bvh_filename)\n",
    "    time_frames = [int(i * time_per_frame * len(animation.positions)) / int(num_pieces) for i in range(1, num_pieces + 1)]\n"
   ]
  },
  {
   "cell_type": "code",
   "execution_count": 20,
   "metadata": {},
   "outputs": [
    {
     "name": "stdout",
     "output_type": "stream",
     "text": [
      "[4.0, 8.0, 12.0, 16.0, 20.2]\n"
     ]
    }
   ],
   "source": [
    "segmentBVH(\"/home/dgopinath/code/pfnn/data/animations/LocomotionFlat04_000.bvh\")\n",
    "animation, joint_names, time_per_frame = BVH.load(bvh_filename)"
   ]
  },
  {
   "cell_type": "code",
   "execution_count": 26,
   "metadata": {},
   "outputs": [
    {
     "ename": "TypeError",
     "evalue": "unravel() missing 3 required positional arguments: 'anim', 'shape', and 'parents'",
     "output_type": "error",
     "traceback": [
      "\u001b[0;31m---------------------------------------------------------------------------\u001b[0m",
      "\u001b[0;31mTypeError\u001b[0m                                 Traceback (most recent call last)",
      "\u001b[0;32m<ipython-input-26-05ddc4bcc172>\u001b[0m in \u001b[0;36m<module>\u001b[0;34m\u001b[0m\n\u001b[0;32m----> 1\u001b[0;31m \u001b[0manimation\u001b[0m\u001b[0;34m.\u001b[0m\u001b[0munravel\u001b[0m\u001b[0;34m(\u001b[0m\u001b[0;34m)\u001b[0m\u001b[0;34m\u001b[0m\u001b[0;34m\u001b[0m\u001b[0m\n\u001b[0m",
      "\u001b[0;31mTypeError\u001b[0m: unravel() missing 3 required positional arguments: 'anim', 'shape', and 'parents'"
     ]
    }
   ],
   "source": [
    "animation."
   ]
  },
  {
   "cell_type": "code",
   "execution_count": null,
   "metadata": {},
   "outputs": [],
   "source": []
  }
 ],
 "metadata": {
  "kernelspec": {
   "display_name": "Python 3",
   "language": "python",
   "name": "python3"
  },
  "language_info": {
   "codemirror_mode": {
    "name": "ipython",
    "version": 3
   },
   "file_extension": ".py",
   "mimetype": "text/x-python",
   "name": "python",
   "nbconvert_exporter": "python",
   "pygments_lexer": "ipython3",
   "version": "3.7.4"
  }
 },
 "nbformat": 4,
 "nbformat_minor": 2
}
